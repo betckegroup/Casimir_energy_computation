{
 "cells": [
  {
   "cell_type": "code",
   "execution_count": 1,
   "id": "6c7ac06f-bd85-4b3c-bb4a-0df4926d5636",
   "metadata": {},
   "outputs": [],
   "source": [
    "import bempp.api\n",
    "import numpy as np\n",
    "import scipy \n",
    "import krypy\n",
    "import time\n",
    "from bempp.api.assembly.blocked_operator import BlockedDiscreteOperator\n",
    "from scipy.sparse.linalg import LinearOperator"
   ]
  },
  {
   "cell_type": "code",
   "execution_count": 2,
   "id": "8b190cb3-de61-4cbc-9a0f-93c537313ffd",
   "metadata": {},
   "outputs": [],
   "source": [
    "h = 0.05\n",
    "r1 = 1\n",
    "r2 = 1\n",
    "dist = 3\n",
    "sphere1 = bempp.api.shapes.sphere(r = r1, h=h, origin=((dist/2) + r1, 0, 0))\n",
    "sphere2 = bempp.api.shapes.sphere(r = r2, h=h, origin=(-((dist/2) + r2), 0, 0))"
   ]
  },
  {
   "cell_type": "code",
   "execution_count": 3,
   "id": "03aa1ad0-55c5-4e11-b9ad-20ed204b1ee5",
   "metadata": {},
   "outputs": [
    {
     "data": {
      "text/plain": [
       "12578"
      ]
     },
     "execution_count": 3,
     "metadata": {},
     "output_type": "execute_result"
    }
   ],
   "source": [
    "sphere1.number_of_elements"
   ]
  },
  {
   "cell_type": "code",
   "execution_count": 4,
   "id": "92613b34-7879-410d-8e95-e85973d7d6bc",
   "metadata": {},
   "outputs": [],
   "source": [
    "space1 = bempp.api.function_space(sphere1,'P',1)\n",
    "space2 = bempp.api.function_space(sphere2,'P',1)"
   ]
  },
  {
   "cell_type": "code",
   "execution_count": 5,
   "id": "17547ae1-df8a-426f-b4a7-4b54f6d0548f",
   "metadata": {},
   "outputs": [],
   "source": [
    "dim = 100"
   ]
  },
  {
   "cell_type": "code",
   "execution_count": 6,
   "id": "936c9699-8710-402d-8b0d-afe4ed6af5a0",
   "metadata": {},
   "outputs": [],
   "source": [
    "wavenumber = 0 * 1j"
   ]
  },
  {
   "cell_type": "code",
   "execution_count": 7,
   "id": "9055cdf3-f7e3-45a5-b925-af7c59a92bbf",
   "metadata": {},
   "outputs": [],
   "source": [
    "slp11 = bempp.api.operators.boundary.helmholtz.single_layer(space1, space1, space1, wavenumber, assembler= 'fmm')\n",
    "slp12 = bempp.api.operators.boundary.helmholtz.single_layer(space2, space1, space1, wavenumber, assembler= 'fmm')\n",
    "slp21 = bempp.api.operators.boundary.helmholtz.single_layer(space1, space2, space2, wavenumber, assembler= 'fmm')\n",
    "slp22 = bempp.api.operators.boundary.helmholtz.single_layer(space2, space2, space2, wavenumber, assembler= 'fmm')\n",
    "\n",
    "slp11_ = bempp.api.operators.boundary.helmholtz.single_layer(space1, space1, space1, wavenumber)\n",
    "slp22_ = bempp.api.operators.boundary.helmholtz.single_layer(space2, space2, space2, wavenumber)"
   ]
  },
  {
   "cell_type": "code",
   "execution_count": 8,
   "id": "904692d8-3a9a-405e-ae22-f7f63409ed42",
   "metadata": {},
   "outputs": [],
   "source": [
    "mat11 = slp11.weak_form()\n",
    "mat12 = slp12.weak_form()\n",
    "mat21 = slp21.weak_form()\n",
    "mat22 = slp22.weak_form()\n",
    "\n",
    "mat_ = [[mat11,mat12],[mat21,mat22]] \n",
    "mat = BlockedDiscreteOperator(np.array(mat_))\n",
    "\n",
    "mat11_ = slp11_.weak_form().A\n",
    "mat22_ = slp22_.weak_form().A\n",
    "\n",
    "L1, U1 = scipy.linalg.lu_factor(mat11_)\n",
    "L2, U2 = scipy.linalg.lu_factor(mat22_)"
   ]
  },
  {
   "cell_type": "code",
   "execution_count": 9,
   "id": "4ea38752-1064-44f0-86f8-d50917d710d6",
   "metadata": {},
   "outputs": [],
   "source": [
    "def mv(v):\n",
    "    return mat @ (list(scipy.linalg.lu_solve([L1, U1], v[0:mat11_.shape[0]])) + list(scipy.linalg.lu_solve([L2, U2], v[mat11_.shape[0]:])))\n",
    "\n",
    "n = mat11_.shape[0] + mat22_.shape[0]\n",
    "x = (np.ones(n)/np.linalg.norm(np.ones(n), 2)).reshape((n,1))\n",
    "L_Op = LinearOperator(shape = (n, n) , matvec=mv)"
   ]
  },
  {
   "cell_type": "code",
   "execution_count": 10,
   "id": "86fd6e9a-b3e5-478b-85ce-bc3acf9d9045",
   "metadata": {},
   "outputs": [],
   "source": [
    "V, H = krypy.utils.arnoldi(L_Op, x, maxiter = dim,  ortho='dmgs')\n",
    "evals_H, evect_H = np.linalg.eig(H[0:dim, :]) "
   ]
  },
  {
   "cell_type": "code",
   "execution_count": 11,
   "id": "c2aaecc8-f8ef-4552-b05f-c048c3d82a29",
   "metadata": {},
   "outputs": [
    {
     "name": "stdout",
     "output_type": "stream",
     "text": [
      "-0.04495802148848054\n"
     ]
    }
   ],
   "source": [
    "logdet = 0\n",
    "for eval_ in evals_H:\n",
    "    logdet += np.log(eval_)\n",
    "print(logdet)"
   ]
  },
  {
   "cell_type": "code",
   "execution_count": 13,
   "id": "6c5033d2-6b9d-498f-bfd9-c5b8fb7c4b8b",
   "metadata": {},
   "outputs": [],
   "source": [
    "%store -r evals_H_"
   ]
  },
  {
   "cell_type": "code",
   "execution_count": 14,
   "id": "f76c26af-6585-4958-8032-31eba668e40e",
   "metadata": {},
   "outputs": [],
   "source": [
    "rel_dist = []\n",
    "for i in range(100):\n",
    "    rel_dist.append(abs(sorted(list(evals_H_))[i] - sorted(evals_H)[i])/sorted(list(evals_H_))[i])"
   ]
  },
  {
   "cell_type": "code",
   "execution_count": 18,
   "id": "10101245-75bb-495f-8f19-978d34abed8e",
   "metadata": {},
   "outputs": [
    {
     "data": {
      "text/plain": [
       "(array([1.e-09, 1.e-08, 1.e-07, 1.e-06, 1.e-05, 1.e-04, 1.e-03]),\n",
       " [Text(0, 0, ''),\n",
       "  Text(0, 0, ''),\n",
       "  Text(0, 0, ''),\n",
       "  Text(0, 0, ''),\n",
       "  Text(0, 0, ''),\n",
       "  Text(0, 0, ''),\n",
       "  Text(0, 0, '')])"
      ]
     },
     "execution_count": 18,
     "metadata": {},
     "output_type": "execute_result"
    },
    {
     "data": {
      "image/png": "[encoded data removed]",
      "text/plain": [
       "<Figure size 720x432 with 1 Axes>"
      ]
     },
     "metadata": {
      "needs_background": "light"
     },
     "output_type": "display_data"
    }
   ],
   "source": [
    "import matplotlib.pyplot as plt\n",
    "plt.figure(figsize = [10,6])\n",
    "plt.semilogy(range(dim), rel_dist, '*')\n",
    "plt.ylabel('Relative distance between eigenvalues', fontsize = 15)\n",
    "plt.xlabel('Index of Eigenvalue', fontsize = 15)\n",
    "plt.xticks(fontsize = 15)\n",
    "plt.yticks(fontsize = 15)"
   ]
  },
  {
   "cell_type": "code",
   "execution_count": 19,
   "id": "efe45fdb-8a11-445b-bff1-ec25f794076f",
   "metadata": {},
   "outputs": [
    {
     "data": {
      "text/plain": [
       "-0.00020807933084288617"
      ]
     },
     "execution_count": 19,
     "metadata": {},
     "output_type": "execute_result"
    }
   ],
   "source": [
    "np.sum(np.log(sorted(evals_H)[10:90]))"
   ]
  },
  {
   "cell_type": "code",
   "execution_count": null,
   "id": "816e0f7b-3fbc-435c-9c94-af1b9695e329",
   "metadata": {},
   "outputs": [],
   "source": []
  }
 ],
 "metadata": {
  "kernelspec": {
   "display_name": "Python 3 (ipykernel)",
   "language": "python",
   "name": "python3"
  },
  "language_info": {
   "codemirror_mode": {
    "name": "ipython",
    "version": 3
   },
   "file_extension": ".py",
   "mimetype": "text/x-python",
   "name": "python",
   "nbconvert_exporter": "python",
   "pygments_lexer": "ipython3",
   "version": "3.10.6"
  }
 },
 "nbformat": 4,
 "nbformat_minor": 5
}
