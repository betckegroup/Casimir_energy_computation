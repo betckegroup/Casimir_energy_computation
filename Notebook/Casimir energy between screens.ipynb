{
 "cells": [
  {
   "cell_type": "code",
   "execution_count": 1,
   "metadata": {},
   "outputs": [],
   "source": [
    "import bempp.api\n",
    "from bempp.api.assembly.blocked_operator import BlockedOperator\n",
    "import math\n",
    "import numpy as np\n",
    "import scipy \n",
    "import cmath\n",
    "from numba import objmode\n",
    "from numpy.linalg import slogdet\n",
    "import matplotlib.pyplot as plt"
   ]
  },
  {
   "cell_type": "code",
   "execution_count": 2,
   "metadata": {},
   "outputs": [],
   "source": [
    "length_ = 5 # length of each screen\n",
    "width_ = 7  # width of each screen\n",
    "dist_ = 0.5 # distance between the screens\n",
    "h = 0.1 # grid size"
   ]
  },
  {
   "cell_type": "code",
   "execution_count": 3,
   "metadata": {},
   "outputs": [],
   "source": [
    "corners1 = np.array([ [-0.5*width_, -0.5*length_, 0.5*dist_],\n",
    "                     [-0.5*width_,  0.5*length_, 0.5*dist_],\n",
    "                     [0.5*width_,   0.5*length_, 0.5*dist_],\n",
    "                     [0.5*width_,  -0.5*length_, 0.5*dist_]])\n",
    "corners2 = np.array([ [-0.5*width_, -0.5*length_, -0.5*dist_],\n",
    "                     [-0.5*width_,  0.5*length_, -0.5*dist_],\n",
    "                     [0.5*width_,   0.5*length_, -0.5*dist_],\n",
    "                     [0.5*width_,  -0.5*length_, -0.5*dist_]])\n",
    "grid1 = bempp.api.shapes.screen(corners1, h = h)\n",
    "grid2 = bempp.api.shapes.screen(corners2, h = h)"
   ]
  },
  {
   "cell_type": "code",
   "execution_count": 4,
   "metadata": {},
   "outputs": [],
   "source": [
    "space1 = bempp.api.function_space(grid1, \"P\", 1)\n",
    "space2 = bempp.api.function_space(grid2, \"P\", 1)"
   ]
  },
  {
   "cell_type": "code",
   "execution_count": 5,
   "metadata": {},
   "outputs": [],
   "source": [
    "N_wn = 15\n",
    "lbound_wn = 0\n",
    "ubound_wn = 4\n",
    "quad_points = np.linspace(np.exp(-ubound_wn), np.exp(-lbound_wn), N_wn)\n",
    "results = np.empty(N_wn, dtype='float64')"
   ]
  },
  {
   "cell_type": "code",
   "execution_count": null,
   "metadata": {},
   "outputs": [
    {
     "name": "stdout",
     "output_type": "stream",
     "text": [
      "Log Determinant: 0: -0.5029392070820645\n",
      "Log Determinant: 1: -1.7149526049284827\n",
      "Log Determinant: 2: -2.6141101097770734\n",
      "Log Determinant: 3: -3.3604554234714485\n",
      "Log Determinant: 4: -4.004166965075259\n",
      "Log Determinant: 5: -4.570039197905504\n",
      "Log Determinant: 6: -5.072624867870161\n",
      "Log Determinant: 7: -5.521262096350433\n",
      "Log Determinant: 8: -5.922220499877856\n"
     ]
    }
   ],
   "source": [
    "for index, point in enumerate(quad_points):\n",
    "\n",
    "    wavenumber = -1j * np.log(point)\n",
    "\n",
    "    slp11 = bempp.api.operators.boundary.helmholtz.single_layer(space1, space1, space1, wavenumber)\n",
    "    slp12 = bempp.api.operators.boundary.helmholtz.single_layer(space2, space1, space1, wavenumber)\n",
    "    slp21 = bempp.api.operators.boundary.helmholtz.single_layer(space1, space2, space2, wavenumber)\n",
    "    slp22 = bempp.api.operators.boundary.helmholtz.single_layer(space2, space2, space2, wavenumber)\n",
    "\n",
    "    mat11 = slp11.weak_form().A\n",
    "    mat12 = slp12.weak_form().A\n",
    "    mat21 = slp21.weak_form().A\n",
    "    mat22 = slp22.weak_form().A\n",
    "    mat12_zero = np.zeros((mat11.shape[0],mat12.shape[1]))\n",
    "    mat21_zero = np.zeros((mat22.shape[0],mat11.shape[1]))\n",
    "\n",
    "    mat = np.block([[mat11,mat12],[mat21,mat22]])  \n",
    "    mat2 = np.block([[mat11,mat12_zero],[mat21_zero,mat22]])\n",
    "    \n",
    "    n = mat.shape[0]\n",
    "    Id = np.eye(n)\n",
    "    inv_mat2 = scipy.linalg.lu_solve(scipy.linalg.lu_factor(mat2), Id)\n",
    "\n",
    "    combined = inv_mat2.dot(mat)\n",
    "    sign, logdet = slogdet(combined)\n",
    "    \n",
    "    results[index] = logdet\n",
    "    print(f\"Log Determinant: {index}: {logdet}\")"
   ]
  },
  {
   "cell_type": "code",
   "execution_count": null,
   "metadata": {},
   "outputs": [],
   "source": [
    "%matplotlib inline\n",
    "from matplotlib.pyplot import figure\n",
    "\n",
    "fig = figure()\n",
    "ax1 = fig.add_subplot(121)\n",
    "ax1.set_xlabel('1j * k')\n",
    "ax2 = fig.add_subplot(122)\n",
    "ax2.set_xlabel('exp(-k)')\n",
    "ax1.semilogy(-np.log(quad_points), -results)\n",
    "ax2.plot(quad_points, -results)\n",
    "fig.tight_layout()"
   ]
  },
  {
   "cell_type": "code",
   "execution_count": null,
   "metadata": {},
   "outputs": [],
   "source": [
    "casimir_energy = np.trapz(-results / quad_points, quad_points) / (2 * np.pi)\n",
    "print(f\"The normalized Casimir Energy is: {casimir_energy}\")\n",
    "\n",
    "area_ = length_ * width_\n",
    "casimir_energy_unit_area = casimir_energy/area_\n",
    "print(f\"The normalized Casimir Energy per unit area is: {casimir_energy_unit_area}\")"
   ]
  },
  {
   "cell_type": "markdown",
   "metadata": {},
   "source": [
    "The following paper states the Casimir energy between two perfectly conducting plates at a distance $a$ is:\n",
    "\n",
    "$$\\mathcal{E}_{\\text{per unit area}}(a) = \\frac{1}{2}\\frac{\\pi^{2}}{720}\\frac{1}{a^{3}}$$\n",
    "\n",
    "https://iopscience.iop.org/article/10.1088/1126-6708/2003/06/018/pdf?casa_token=lsiQlkbo0DQAAAAA:sDu0bRRkVhtihAFr3TrMvPw5yHmJeTAKXwWN59jyzKqZqh0PCE1-QuGkebrkYN13rHwq40nP"
   ]
  },
  {
   "cell_type": "code",
   "execution_count": null,
   "metadata": {},
   "outputs": [],
   "source": [
    "ref_ = 0.5 * (np.pi**2) /(720*dist_**3)\n",
    "print(casimir_energy_unit_area, ref_)"
   ]
  },
  {
   "cell_type": "code",
   "execution_count": null,
   "metadata": {},
   "outputs": [],
   "source": [
    "X = np.array([[9, 3, 1, 5], [3, 7, 5, 1], [1, 5, 9, 2], [5, 1, 2, 6]])\n",
    "p = X.shape[0]\n",
    "Ip = np.eye(p)\n",
    "scipy.linalg.lu_solve(scipy.linalg.lu_factor(X), Ip) @ X"
   ]
  },
  {
   "cell_type": "code",
   "execution_count": null,
   "metadata": {},
   "outputs": [],
   "source": []
  }
 ],
 "metadata": {
  "kernelspec": {
   "display_name": "Python 3",
   "language": "python",
   "name": "python3"
  },
  "language_info": {
   "codemirror_mode": {
    "name": "ipython",
    "version": 3
   },
   "file_extension": ".py",
   "mimetype": "text/x-python",
   "name": "python",
   "nbconvert_exporter": "python",
   "pygments_lexer": "ipython3",
   "version": "3.7.0"
  }
 },
 "nbformat": 4,
 "nbformat_minor": 2
}
