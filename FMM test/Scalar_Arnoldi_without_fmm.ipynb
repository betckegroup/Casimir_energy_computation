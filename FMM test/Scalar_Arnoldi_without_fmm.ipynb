{
 "cells": [
  {
   "cell_type": "code",
   "execution_count": 1,
   "id": "6c7ac06f-bd85-4b3c-bb4a-0df4926d5636",
   "metadata": {},
   "outputs": [],
   "source": [
    "import bempp.api\n",
    "import numpy as np\n",
    "import scipy \n",
    "import krypy\n",
    "import time\n",
    "from bempp.api.assembly.blocked_operator import BlockedDiscreteOperator\n",
    "from scipy.sparse.linalg import LinearOperator"
   ]
  },
  {
   "cell_type": "code",
   "execution_count": 2,
   "id": "8b190cb3-de61-4cbc-9a0f-93c537313ffd",
   "metadata": {},
   "outputs": [],
   "source": [
    "h = 0.05\n",
    "r1 = 1\n",
    "r2 = 1\n",
    "dist = 3\n",
    "sphere1 = bempp.api.shapes.sphere(r = r1, h=h, origin=((dist/2) + r1, 0, 0))\n",
    "sphere2 = bempp.api.shapes.sphere(r = r2, h=h, origin=(-((dist/2) + r2), 0, 0))"
   ]
  },
  {
   "cell_type": "code",
   "execution_count": 3,
   "id": "03aa1ad0-55c5-4e11-b9ad-20ed204b1ee5",
   "metadata": {},
   "outputs": [
    {
     "data": {
      "text/plain": [
       "12578"
      ]
     },
     "execution_count": 3,
     "metadata": {},
     "output_type": "execute_result"
    }
   ],
   "source": [
    "sphere1.number_of_elements"
   ]
  },
  {
   "cell_type": "code",
   "execution_count": 4,
   "id": "92613b34-7879-410d-8e95-e85973d7d6bc",
   "metadata": {},
   "outputs": [],
   "source": [
    "space1 = bempp.api.function_space(sphere1,'P',1)\n",
    "space2 = bempp.api.function_space(sphere2,'P',1)"
   ]
  },
  {
   "cell_type": "code",
   "execution_count": 5,
   "id": "17547ae1-df8a-426f-b4a7-4b54f6d0548f",
   "metadata": {},
   "outputs": [],
   "source": [
    "dim = 100"
   ]
  },
  {
   "cell_type": "code",
   "execution_count": 7,
   "id": "01071210-0375-4f22-8b8c-f51a2ff86bef",
   "metadata": {},
   "outputs": [],
   "source": [
    "wavenumber = 0 * 1j"
   ]
  },
  {
   "cell_type": "code",
   "execution_count": 8,
   "id": "279f8c43-80c9-40b9-9c18-4cb345175fea",
   "metadata": {},
   "outputs": [],
   "source": [
    "slp11 = bempp.api.operators.boundary.helmholtz.single_layer(space1, space1, space1, wavenumber)\n",
    "slp12 = bempp.api.operators.boundary.helmholtz.single_layer(space2, space1, space1, wavenumber)\n",
    "slp21 = bempp.api.operators.boundary.helmholtz.single_layer(space1, space2, space2, wavenumber)\n",
    "slp22 = bempp.api.operators.boundary.helmholtz.single_layer(space2, space2, space2, wavenumber)"
   ]
  },
  {
   "cell_type": "code",
   "execution_count": 9,
   "id": "7c82fc4b-20d8-448d-8aa8-0344e7f2096a",
   "metadata": {},
   "outputs": [],
   "source": [
    "mat11 = slp11.weak_form().A\n",
    "mat12 = slp12.weak_form().A\n",
    "mat21 = slp21.weak_form().A\n",
    "mat22 = slp22.weak_form().A\n",
    "\n",
    "mat = np.block([[mat11,mat12],\n",
    "                  [mat21,mat22]])  \n",
    "\n",
    "L1, U1 = scipy.linalg.lu_factor(mat11)\n",
    "L2, U2 = scipy.linalg.lu_factor(mat22)"
   ]
  },
  {
   "cell_type": "code",
   "execution_count": 10,
   "id": "c9670954-56da-448d-9dfb-b6d411f7bdf9",
   "metadata": {},
   "outputs": [],
   "source": [
    "def mv(v):\n",
    "    return mat @ (list(scipy.linalg.lu_solve([L1, U1], v[0:mat11.shape[0]])) + list(scipy.linalg.lu_solve([L2, U2], v[mat11.shape[0]:])))\n",
    "\n",
    "n = mat.shape[0]\n",
    "x = (np.ones(n)/np.linalg.norm(np.ones(n))).reshape((n,1))\n",
    "L_Op = LinearOperator(shape = (n,n) , matvec=mv)"
   ]
  },
  {
   "cell_type": "code",
   "execution_count": 14,
   "id": "ec5a5ba0-cac3-49a0-b1cd-84ada3490f59",
   "metadata": {},
   "outputs": [],
   "source": [
    "V, H = krypy.utils.arnoldi(L_Op, x, maxiter = dim,  ortho='dmgs')\n",
    "evals_H_, evect_H_ = np.linalg.eig(H[0:dim, :])  "
   ]
  },
  {
   "cell_type": "code",
   "execution_count": 15,
   "id": "6c5033d2-6b9d-498f-bfd9-c5b8fb7c4b8b",
   "metadata": {},
   "outputs": [
    {
     "name": "stdout",
     "output_type": "stream",
     "text": [
      "-0.0447580027569575\n"
     ]
    }
   ],
   "source": [
    "logdet = 0\n",
    "for eval_ in evals_H_:\n",
    "    logdet += np.log(eval_)\n",
    "print(logdet)"
   ]
  },
  {
   "cell_type": "code",
   "execution_count": 16,
   "id": "98075615-9b25-4715-ac9b-d80c59f4b265",
   "metadata": {},
   "outputs": [
    {
     "data": {
      "text/plain": [
       "array([1.20864725, 0.79135275, 1.00908316, 1.0090832 , 1.00908318,\n",
       "       0.9909168 , 0.99091682, 0.99091684, 1.00039543, 1.00039542,\n",
       "       1.00039542, 1.00039542, 1.00039542, 0.99960457, 0.99960458,\n",
       "       0.99960458, 0.99960458, 0.99960458, 0.99998279, 0.99998279,\n",
       "       0.99998279, 1.00001721, 1.00001721, 1.00001721, 1.00001721,\n",
       "       1.00001721, 1.00001721, 0.99998279, 0.99998279, 0.99998279,\n",
       "       0.99998279, 1.00001721, 0.99999925, 0.99999925, 0.99999925,\n",
       "       0.99999925, 1.00000075, 1.00000075, 1.00000075, 1.00000075,\n",
       "       1.00000075, 1.00000075, 1.00000075, 0.99999925, 0.99999925,\n",
       "       0.99999925, 1.00000075, 0.99999925, 0.99999925, 1.00000075,\n",
       "       1.00000003, 1.00000003, 1.00000003, 0.99999997, 0.99999997,\n",
       "       0.99999997, 0.99999997, 0.99999997, 0.99999997, 1.00000003,\n",
       "       1.00000003, 1.00000003, 1.00000003, 1.00000003, 1.00000003,\n",
       "       0.99999997, 0.99999997, 0.99999997, 0.99999997, 1.00000003,\n",
       "       1.00000003, 0.99999997, 1.        , 1.        , 1.        ,\n",
       "       1.        , 1.        , 1.        , 1.        , 1.        ,\n",
       "       1.        , 1.        , 1.        , 1.        , 1.        ,\n",
       "       1.        , 1.        , 1.        , 1.        , 1.        ,\n",
       "       1.        , 1.        , 1.        , 1.        , 1.        ,\n",
       "       1.        , 1.        , 1.        , 1.        , 1.        ])"
      ]
     },
     "execution_count": 16,
     "metadata": {},
     "output_type": "execute_result"
    }
   ],
   "source": [
    "evals_H_"
   ]
  },
  {
   "cell_type": "code",
   "execution_count": 17,
   "id": "7e332355-c7e8-4231-98fa-22d9b6d1a002",
   "metadata": {},
   "outputs": [
    {
     "name": "stdout",
     "output_type": "stream",
     "text": [
      "Stored 'evals_H_' (ndarray)\n"
     ]
    }
   ],
   "source": [
    "%store evals_H_"
   ]
  },
  {
   "cell_type": "code",
   "execution_count": null,
   "id": "d2d068a7-f9ef-41b9-bc6b-a80570afabf1",
   "metadata": {},
   "outputs": [],
   "source": []
  }
 ],
 "metadata": {
  "kernelspec": {
   "display_name": "Python 3 (ipykernel)",
   "language": "python",
   "name": "python3"
  },
  "language_info": {
   "codemirror_mode": {
    "name": "ipython",
    "version": 3
   },
   "file_extension": ".py",
   "mimetype": "text/x-python",
   "name": "python",
   "nbconvert_exporter": "python",
   "pygments_lexer": "ipython3",
   "version": "3.9.7"
  }
 },
 "nbformat": 4,
 "nbformat_minor": 5
}
